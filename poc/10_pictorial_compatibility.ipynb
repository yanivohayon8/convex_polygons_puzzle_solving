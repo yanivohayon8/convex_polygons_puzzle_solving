{
 "cells": [
  {
   "cell_type": "code",
   "execution_count": 2,
   "metadata": {},
   "outputs": [],
   "source": [
    "import numpy as np \n",
    "import cv2\n",
    "import glob\n",
    "import matplotlib.pyplot as plt"
   ]
  },
  {
   "cell_type": "code",
   "execution_count": 7,
   "metadata": {},
   "outputs": [
    {
     "ename": "KeyError",
     "evalue": "'P_9_E_2'",
     "output_type": "error",
     "traceback": [
      "\u001b[1;31m---------------------------------------------------------------------------\u001b[0m",
      "\u001b[1;31mKeyError\u001b[0m                                  Traceback (most recent call last)",
      "\u001b[1;32mc:\\Users\\97254\\Desktop\\msc\\Thesis\\convex_polygons_puzzle_solving\\poc\\10_pictorial_compatibility.ipynb Cell 2\u001b[0m line \u001b[0;36m1\n\u001b[0;32m     <a href='vscode-notebook-cell:/c%3A/Users/97254/Desktop/msc/Thesis/convex_polygons_puzzle_solving/poc/10_pictorial_compatibility.ipynb#W1sZmlsZQ%3D%3D?line=12'>13</a>\u001b[0m     \u001b[39melif\u001b[39;00m \u001b[39m\"\u001b[39m\u001b[39moriginal\u001b[39m\u001b[39m\"\u001b[39m \u001b[39min\u001b[39;00m splitted[\u001b[39m1\u001b[39m]:\n\u001b[0;32m     <a href='vscode-notebook-cell:/c%3A/Users/97254/Desktop/msc/Thesis/convex_polygons_puzzle_solving/poc/10_pictorial_compatibility.ipynb#W1sZmlsZQ%3D%3D?line=13'>14</a>\u001b[0m         edge2original_image[edge] \u001b[39m=\u001b[39m cv2\u001b[39m.\u001b[39mimread(file)\n\u001b[1;32m---> <a href='vscode-notebook-cell:/c%3A/Users/97254/Desktop/msc/Thesis/convex_polygons_puzzle_solving/poc/10_pictorial_compatibility.ipynb#W1sZmlsZQ%3D%3D?line=16'>17</a>\u001b[0m plt\u001b[39m.\u001b[39mimshow(edge2original_image[\u001b[39m\"\u001b[39;49m\u001b[39mP_9_E_2\u001b[39;49m\u001b[39m\"\u001b[39;49m])\n",
      "\u001b[1;31mKeyError\u001b[0m: 'P_9_E_2'"
     ]
    }
   ],
   "source": [
    "data_dir = \"../data/poc_10_pictorial_compatibility/\"\n",
    "edge2original_image = {}\n",
    "edge2extrpolated_image = {}\n",
    "\n",
    "for file in glob.glob(data_dir+\"*.png\"):\n",
    "    file_name = file.split(\"\\\\\")[-1]\n",
    "    splitted = file_name.split(\"_\")\n",
    "    splitted_dash = splitted[0].split(\"-\")\n",
    "    edge = \"_\".join(splitted_dash[4:])\n",
    "\n",
    "    if \"ext\" in splitted[1]:\n",
    "        edge2extrpolated_image[edge] = cv2.imread(file)\n",
    "    elif \"original\" in splitted[1]:\n",
    "        edge2original_image[edge] = cv2.imread(file)\n",
    "\n",
    "\n",
    "plt.imshow(edge2original_image[\"P_9_E_2\"])"
   ]
  },
  {
   "cell_type": "code",
   "execution_count": 4,
   "metadata": {},
   "outputs": [
    {
     "data": {
      "text/plain": [
       "dict_keys([])"
      ]
     },
     "execution_count": 4,
     "metadata": {},
     "output_type": "execute_result"
    }
   ],
   "source": [
    "edge2original_image.keys()"
   ]
  },
  {
   "cell_type": "code",
   "execution_count": null,
   "metadata": {},
   "outputs": [],
   "source": []
  }
 ],
 "metadata": {
  "kernelspec": {
   "display_name": ".venv",
   "language": "python",
   "name": "python3"
  },
  "language_info": {
   "codemirror_mode": {
    "name": "ipython",
    "version": 3
   },
   "file_extension": ".py",
   "mimetype": "text/x-python",
   "name": "python",
   "nbconvert_exporter": "python",
   "pygments_lexer": "ipython3",
   "version": "3.9.1rc1"
  },
  "orig_nbformat": 4
 },
 "nbformat": 4,
 "nbformat_minor": 2
}
