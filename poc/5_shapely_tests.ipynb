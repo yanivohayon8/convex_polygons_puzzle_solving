{
 "cells": [
  {
   "cell_type": "code",
   "execution_count": 3,
   "metadata": {},
   "outputs": [],
   "source": [
    "import shapely"
   ]
  },
  {
   "cell_type": "code",
   "execution_count": 4,
   "metadata": {},
   "outputs": [
    {
     "data": {
      "text/plain": [
       "[(0.0, 0.0), (1.0, 0.0), (1.0, 1.0), (0.0, 1.0), (0.0, 0.0)]"
      ]
     },
     "execution_count": 4,
     "metadata": {},
     "output_type": "execute_result"
    }
   ],
   "source": [
    "square = shapely.Polygon([(0,0),(1,0),(1,1),(0,1)])\n",
    "list(square.exterior.coords)"
   ]
  },
  {
   "cell_type": "code",
   "execution_count": 5,
   "metadata": {},
   "outputs": [
    {
     "data": {
      "text/plain": [
       "[(1.0, 1.0), (1.0, 0.0), (0.0, 0.0), (0.0, 1.0), (1.0, 1.0)]"
      ]
     },
     "execution_count": 5,
     "metadata": {},
     "output_type": "execute_result"
    }
   ],
   "source": [
    "square2 = shapely.Polygon([(1,1),(1,0),(0,0),(0,1)])\n",
    "list(square2.exterior.coords)"
   ]
  },
  {
   "attachments": {},
   "cell_type": "markdown",
   "metadata": {},
   "source": [
    "# polygon Counter clockwise"
   ]
  },
  {
   "cell_type": "code",
   "execution_count": 1,
   "metadata": {},
   "outputs": [],
   "source": [
    "from shapely.geometry.polygon import orient"
   ]
  },
  {
   "cell_type": "code",
   "execution_count": 5,
   "metadata": {},
   "outputs": [
    {
     "data": {
      "text/plain": [
       "False"
      ]
     },
     "execution_count": 5,
     "metadata": {},
     "output_type": "execute_result"
    }
   ],
   "source": [
    "poly = shapely.Polygon([(115.9195576,1154.913753),\n",
    "        (539.3785152,1397.821322),\n",
    "        (2066.283764,935.972691),\n",
    "        (1353.47215,60.31650952)])\n",
    "poly.exterior.is_ccw"
   ]
  },
  {
   "cell_type": "code",
   "execution_count": 6,
   "metadata": {},
   "outputs": [
    {
     "name": "stdout",
     "output_type": "stream",
     "text": [
      "LINEARRING (115.9195576 1154.913753, 1353.47215 60.31650952, 2066.283764 935.972691, 539.3785152 1397.821322, 115.9195576 1154.913753)\n",
      "True\n"
     ]
    }
   ],
   "source": [
    "oriet_poly = orient(poly)\n",
    "print(oriet_poly.exterior)\n",
    "print(oriet_poly.exterior.is_ccw)"
   ]
  },
  {
   "cell_type": "code",
   "execution_count": 7,
   "metadata": {},
   "outputs": [
    {
     "ename": "AttributeError",
     "evalue": "'list' object has no attribute 'exterior'",
     "output_type": "error",
     "traceback": [
      "\u001b[1;31m---------------------------------------------------------------------------\u001b[0m",
      "\u001b[1;31mAttributeError\u001b[0m                            Traceback (most recent call last)",
      "Cell \u001b[1;32mIn [7], line 1\u001b[0m\n\u001b[1;32m----> 1\u001b[0m orient([(\u001b[39m115.9195576\u001b[39;49m,\u001b[39m1154.913753\u001b[39;49m),\n\u001b[0;32m      2\u001b[0m         (\u001b[39m539.3785152\u001b[39;49m,\u001b[39m1397.821322\u001b[39;49m),\n\u001b[0;32m      3\u001b[0m         (\u001b[39m2066.283764\u001b[39;49m,\u001b[39m935.972691\u001b[39;49m),\n\u001b[0;32m      4\u001b[0m         (\u001b[39m1353.47215\u001b[39;49m,\u001b[39m60.31650952\u001b[39;49m)])\n",
      "File \u001b[1;32mc:\\Users\\97254\\Desktop\\msc\\Thesis\\convex_polygons_puzzle_solving\\.venv\\lib\\site-packages\\shapely\\geometry\\polygon.py:316\u001b[0m, in \u001b[0;36morient\u001b[1;34m(polygon, sign)\u001b[0m\n\u001b[0;32m    314\u001b[0m s \u001b[39m=\u001b[39m \u001b[39mfloat\u001b[39m(sign)\n\u001b[0;32m    315\u001b[0m rings \u001b[39m=\u001b[39m []\n\u001b[1;32m--> 316\u001b[0m ring \u001b[39m=\u001b[39m polygon\u001b[39m.\u001b[39;49mexterior\n\u001b[0;32m    317\u001b[0m \u001b[39mif\u001b[39;00m signed_area(ring) \u001b[39m/\u001b[39m s \u001b[39m>\u001b[39m\u001b[39m=\u001b[39m \u001b[39m0.0\u001b[39m:\n\u001b[0;32m    318\u001b[0m     rings\u001b[39m.\u001b[39mappend(ring)\n",
      "\u001b[1;31mAttributeError\u001b[0m: 'list' object has no attribute 'exterior'"
     ]
    }
   ],
   "source": [
    "orient([(115.9195576,1154.913753),\n",
    "        (539.3785152,1397.821322),\n",
    "        (2066.283764,935.972691),\n",
    "        (1353.47215,60.31650952)])"
   ]
  },
  {
   "cell_type": "code",
   "execution_count": null,
   "metadata": {},
   "outputs": [],
   "source": []
  }
 ],
 "metadata": {
  "kernelspec": {
   "display_name": ".venv",
   "language": "python",
   "name": "python3"
  },
  "language_info": {
   "codemirror_mode": {
    "name": "ipython",
    "version": 3
   },
   "file_extension": ".py",
   "mimetype": "text/x-python",
   "name": "python",
   "nbconvert_exporter": "python",
   "pygments_lexer": "ipython3",
   "version": "3.9.1rc1"
  },
  "orig_nbformat": 4,
  "vscode": {
   "interpreter": {
    "hash": "e317ca2f0574dac0ae004d0f7bef7b34bac4d0e8f8e24be69102706351d42331"
   }
  }
 },
 "nbformat": 4,
 "nbformat_minor": 2
}
