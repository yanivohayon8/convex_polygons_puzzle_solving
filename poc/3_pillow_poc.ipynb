{
 "cells": [
  {
   "cell_type": "code",
   "execution_count": 2,
   "metadata": {},
   "outputs": [],
   "source": [
    "import numpy as np\n",
    "from PIL import  Image, ImageDraw, ImagePath "
   ]
  },
  {
   "cell_type": "code",
   "execution_count": 4,
   "metadata": {},
   "outputs": [],
   "source": [
    "img = Image.open(\"..\\\\data\\\\ofir\\\\Pseudo-Sappho_MAN_Napoli_Inv9084\\\\Puzzle1\\\\0\\\\ground_truth.jpg\")\n",
    "img.show()"
   ]
  },
  {
   "attachments": {},
   "cell_type": "markdown",
   "metadata": {},
   "source": [
    "# Draw polygon"
   ]
  },
  {
   "cell_type": "code",
   "execution_count": null,
   "metadata": {},
   "outputs": [],
   "source": [
    "xys = [[\n",
    "        (115.9195576,1154.913753),\n",
    "        (539.3785152,1397.821322),\n",
    "        (2066.283764,935.972691),\n",
    "        (1353.47215,60.31650952)],\n",
    "        [(115.9195576,1154.913753),\n",
    "        (192.1773049,2125.593712),\n",
    "        (539.3785152,1397.821322),\n",
    "        (192.1773049,2125.593712),\n",
    "        (580.956247,1552.762256)],\n",
    "        [(539.3785152,1397.821322),\n",
    "        (192.1773049,2125.593712),\n",
    "        (1331.814823,1648.020348),\n",
    "        ],\n",
    "        ]\n",
    "\n",
    "#size = list(map(int, map(2500, image[2:])))\n",
    "\n",
    "img = Image.new(\"RGB\", (4885, 4300)) # the size of the ground truth image\n",
    "img1 = ImageDraw.Draw(img)  \n",
    "for i,xy in enumerate(xys):\n",
    "    if  i%3 == 0:\n",
    "        img1.polygon(xy, fill =\"blue\", outline =\"blue\") \n",
    "    if i%3==1:\n",
    "        img1.polygon(xy, fill =\"red\", outline =\"red\") \n",
    "    if i%3==2:\n",
    "        img1.polygon(xy, fill =\"green\", outline =\"green\") \n",
    "\n",
    "img.show()\n"
   ]
  },
  {
   "attachments": {},
   "cell_type": "markdown",
   "metadata": {},
   "source": [
    "# Test Pasting"
   ]
  },
  {
   "cell_type": "code",
   "execution_count": null,
   "metadata": {},
   "outputs": [],
   "source": [
    "img = Image.open(\"..\\\\data\\\\ofir\\\\Pseudo-Sappho_MAN_Napoli_Inv9084\\\\Puzzle1\\\\0\\\\0.png\")\n",
    "img_w, img_h = img.size\n",
    "background = Image.new('RGBA', (4885, 4300), (255, 255, 255,255))\n",
    "bg_w, bg_h = background.size\n",
    "offset = ((bg_w - img_w) // 2, (bg_h - img_h) // 2)\n",
    "background.paste(img, offset)\n",
    "background.show()"
   ]
  },
  {
   "attachments": {},
   "cell_type": "markdown",
   "metadata": {},
   "source": [
    "# Pasting pieces image in the right place according to the ground truth"
   ]
  },
  {
   "cell_type": "code",
   "execution_count": null,
   "metadata": {},
   "outputs": [],
   "source": [
    "#img = Image.new(\"RGB\", (4885, 4300))\n",
    "img = Image.open(\"data\\\\ofir\\\\Pseudo-Sappho_MAN_Napoli_Inv9084\\\\Puzzle1\\\\0\\\\blabla.png\")\n",
    "\n",
    "xy = [\n",
    "    (115.9195576,1154.913753),\n",
    "    (539.3785152,1397.821322),\n",
    "    (2066.283764,935.972691),\n",
    "    (1353.47215,60.31650952)]\n",
    "center_mass = np.average(xy,axis=0)\n",
    "offset = (int(center_mass[0]),int(center_mass[1]))\n",
    "img2 = Image.open(\"data\\\\ofir\\\\Pseudo-Sappho_MAN_Napoli_Inv9084\\\\Puzzle1\\\\0\\\\blabla2.png\")\n",
    "\n",
    "xy2 = [\n",
    "    (115.9195576,1154.913753),\n",
    "    (192.1773049,2125.593712),\n",
    "    (539.3785152,1397.821322)]\n",
    "center_mass2 = np.average(xy2,axis=0)\n",
    "offset2 = (int(center_mass2[0]),int(center_mass2[1]))\n",
    "\n",
    "background = Image.new('RGBA', (4885, 4300), (0,0,0,0))\n",
    "background.paste(img, offset)\n",
    "background.paste(img2, offset2)\n",
    "background.show()"
   ]
  },
  {
   "attachments": {},
   "cell_type": "markdown",
   "metadata": {},
   "source": [
    "# Make black background Transparent"
   ]
  },
  {
   "cell_type": "code",
   "execution_count": null,
   "metadata": {},
   "outputs": [],
   "source": [
    "img = Image.open(\"data\\\\ofir\\\\Pseudo-Sappho_MAN_Napoli_Inv9084\\\\Puzzle1\\\\0\\\\1.png\") #\n",
    "img = img.convert(\"RGBA\")\n",
    "datas = img.getdata()\n",
    "\n",
    "newData = []\n",
    "for item in datas:\n",
    "    if item[0] == 0 and item[1] == 0 and item[2] == 0:\n",
    "        newData.append((0, 0, 0, 0))\n",
    "    else:\n",
    "        newData.append(item)\n",
    "\n",
    "img.putdata(newData)\n",
    "img.save(\"blabla2.png\")\n"
   ]
  }
 ],
 "metadata": {
  "kernelspec": {
   "display_name": ".venv",
   "language": "python",
   "name": "python3"
  },
  "language_info": {
   "codemirror_mode": {
    "name": "ipython",
    "version": 3
   },
   "file_extension": ".py",
   "mimetype": "text/x-python",
   "name": "python",
   "nbconvert_exporter": "python",
   "pygments_lexer": "ipython3",
   "version": "3.9.1rc1"
  },
  "orig_nbformat": 4,
  "vscode": {
   "interpreter": {
    "hash": "e317ca2f0574dac0ae004d0f7bef7b34bac4d0e8f8e24be69102706351d42331"
   }
  }
 },
 "nbformat": 4,
 "nbformat_minor": 2
}
